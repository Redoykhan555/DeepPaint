{
 "cells": [
  {
   "cell_type": "code",
   "execution_count": 2,
   "metadata": {},
   "outputs": [],
   "source": [
    "from PyQt5.QtWidgets import *\n",
    "from PyQt5.QtGui import *\n",
    "from PyQt5.QtCore import *\n",
    "import sys,os\n",
    "from PIL import Image\n",
    "from PIL.ImageQt import ImageQt\n",
    "from skimage import io, color,img_as_float,img_as_uint\n",
    "\n",
    "import numpy as np"
   ]
  },
  {
   "cell_type": "code",
   "execution_count": 3,
   "metadata": {},
   "outputs": [],
   "source": [
    "class ImageBox(QWidget):\n",
    "    def __init__(self,px=None):\n",
    "        super(ImageBox,self).__init__()\n",
    "        self.px = px\n",
    "    \n",
    "    def paintEvent(self, paint_event):\n",
    "        painter = QPainter(self)\n",
    "        if self.px==None:\n",
    "            painter.drawText(QPoint(self.width()//2-5,self.height()//2-5),\"No Painting\")\n",
    "        else:\n",
    "            painter.drawPixmap(self.rect(), self.px)\n",
    "            painter.setRenderHint(QPainter.Antialiasing, True)\n",
    "        \n",
    "    def sizeHint(self):\n",
    "        return QSize(300,300)\n",
    "    \n",
    "class OutputBox(ImageBox):\n",
    "    def __init__(self,img=None):\n",
    "        self.img = img\n",
    "        self.px = None if img==None else img.toqpixmap()\n",
    "        super(OutputBox,self).__init__(self.px)\n",
    "        \n",
    "    def mouseMoveEvent(self, e):\n",
    "\n",
    "        if e.buttons() != Qt.RightButton or self.px==None:\n",
    "            return\n",
    "\n",
    "        mimeData = QMimeData()\n",
    "        print(\"Drag in outputBox\")\n",
    "        mimeData.img = self.img\n",
    "        drag = QDrag(self)\n",
    "        drag.setMimeData(mimeData)\n",
    "        drag.setHotSpot(e.pos() - self.rect().topLeft())\n",
    "\n",
    "        dropAction = drag.exec_(Qt.MoveAction)\n",
    "        \n",
    "    "
   ]
  },
  {
   "cell_type": "code",
   "execution_count": 4,
   "metadata": {},
   "outputs": [],
   "source": [
    "class GalleryItem(QListWidgetItem):\n",
    "    def __init__(self,img):\n",
    "        super(GalleryItem,self).__init__()\n",
    "        self.img = img\n",
    "        icon = QIcon(self.img.toqpixmap())\n",
    "        self.setIcon(icon)\n",
    "        \n",
    "        \n",
    "class Gallery(QListWidget):\n",
    "    def __init__(self,*args,**kwargs):\n",
    "        super(Gallery,self).__init__(*args,**kwargs)\n",
    "        self.setDragDropMode(QAbstractItemView.DragDrop)\n",
    "        self.setSelectionMode(QAbstractItemView.SingleSelection)\n",
    "        self.setAcceptDrops(True)\n",
    "        self.setDragEnabled(True)\n",
    "        self.setDropIndicatorShown(True)\n",
    "        self.setIconSize(QSize(80,60))\n",
    "        \n",
    "        self.imgs = []\n",
    "\n",
    "    def addImage(self,img):\n",
    "        if type(img)==type(\"\"): img = Image.open(img)\n",
    "        self.imgs.append(img)\n",
    "        self.addItem(GalleryItem(img))\n",
    "        \n",
    "    def dragEnterEvent(self, event):\n",
    "        print(\"Drag entring in Gallery...\")\n",
    "        event.accept()\n",
    "        \n",
    "    def dragMoveEvent(self,e):\n",
    "        e.accept()\n",
    "        \n",
    "    def dropEvent(self,e):\n",
    "        img = e.mimeData().img\n",
    "        self.addImage(img)\n",
    "        \n",
    "    def mimeData(self,item):\n",
    "        data = QMimeData()\n",
    "        data.img = item[0].img\n",
    "        return data\n",
    "    \n",
    "    def contextMenuEvent(self, event):\n",
    "        item = self.itemAt(event.pos())\n",
    "        if item==None: return \n",
    "        m = QMenu()\n",
    "        \n",
    "        sv = m.addAction(\"Save\")\n",
    "        sv.triggered.connect(lambda :self.saveFile(item))\n",
    "        dt = m.addAction(\"Delete\")\n",
    "        dt.triggered.connect(lambda :self.takeItem(self.row(item)))\n",
    "        act = m.exec_(self.mapToGlobal(event.pos()))\n",
    "        \n",
    "    def saveFile(self,item):\n",
    "        paths = QFileDialog.getSaveFileName(self,\"Save painting\")\n",
    "        print(qd)\n",
    "        im = item.img\n",
    "        im.save(paths[0])\n"
   ]
  },
  {
   "cell_type": "code",
   "execution_count": 5,
   "metadata": {},
   "outputs": [],
   "source": [
    "class ImageHint(QWidget):\n",
    "\n",
    "    updated = pyqtSignal(Image.Image)\n",
    "    \n",
    "    def __init__(self):\n",
    "        super(ImageHint,self).__init__()\n",
    "        self.chosen_points = []     \n",
    "        self.brushCol = Qt.blue\n",
    "        self.px = None\n",
    "        self.img = None\n",
    "        self.r = 5\n",
    "        self.setAcceptDrops(True)\n",
    "\n",
    "    def paintEvent(self,event):\n",
    "        painter = QPainter(self)\n",
    "        if self.px==None:\n",
    "            painter.drawText(QPoint(self.width()//2-5,self.height()//2-5),\"No Painting\")\n",
    "            return\n",
    "        painter.drawPixmap(self.rect(), self.px)\n",
    "        painter.setRenderHint(QPainter.Antialiasing, True)\n",
    "        for pos,col,r in self.chosen_points:\n",
    "            painter.setBrush(QBrush(col))\n",
    "            qs = self.size()\n",
    "            sx,sy = qs.width(),qs.height()\n",
    "            painter.drawEllipse(QPoint(pos[0]*sx,pos[1]*sy),r,r)\n",
    "\n",
    "        \n",
    "\n",
    "    def mouseReleaseEvent(self, cursor_event):\n",
    "        #print(\"hello:\",cursor_event.pos())\n",
    "        qs = self.size()\n",
    "        sx,sy = qs.width(),qs.height()\n",
    "        cur = cursor_event.pos()\n",
    "        x,y = cur.x(),cur.y()\n",
    "        rat = (x/sx,y/sy)\n",
    "        self.chosen_points.append((rat,self.brushCol,self.r))\n",
    "        self.update()\n",
    "        self.updated.emit(self.img)\n",
    "        \n",
    "    def reset(self):\n",
    "        #print(\"Hints reset\")\n",
    "        self.chosen_points = []\n",
    "        self.update()\n",
    "        self.updated.emit(self.img)\n",
    "        \n",
    "    def undo(self):\n",
    "        #print(\"Last hint undone\")\n",
    "        self.chosen_points.pop()\n",
    "        self.update()\n",
    "        self.updated.emit(self.img)\n",
    "\n",
    "    def updateRad(self,r):\n",
    "        self.r = r\n",
    "        \n",
    "    def sizeHint(self):\n",
    "        return QSize(300,300)\n",
    "    \n",
    "    def dragEnterEvent(self, e):\n",
    "        if hasattr(e.mimeData(),'img'): e.accept()\n",
    "        else: e.ignore()\n",
    "\n",
    "    def dropEvent(self, e):\n",
    "        self.img = e.mimeData().img\n",
    "        self.px = self.img.toqpixmap()\n",
    "        self.chosen_points = []\n",
    "        self.update()\n",
    "        self.updated.emit(self.img)"
   ]
  },
  {
   "cell_type": "code",
   "execution_count": 6,
   "metadata": {},
   "outputs": [],
   "source": [
    "duu = {}\n",
    "class ColorizeTab(QWidget):\n",
    "    def __init__(self,*args):\n",
    "        super(ColorizeTab,self).__init__(*args)\n",
    "        self.hint = ImageHint()\n",
    "        self.out = OutputBox(Image.open(\"wwe.jpg\"))\n",
    "        self.setSizePolicy(QSizePolicy(QSizePolicy.Maximum, QSizePolicy.Maximum))\n",
    "        self.initUI()\n",
    "    \n",
    "    def initUI(self):\n",
    "        mainL = QVBoxLayout()\n",
    "        self.setLayout(mainL)\n",
    "        \n",
    "        self.selCol = QPushButton(\"select color\",self)\n",
    "        self.selCol.clicked.connect(self.colorChoose)\n",
    "        \n",
    "        self.undoBtn = QPushButton(\"Undo\",self)     \n",
    "        self.undoBtn.clicked.connect(self.hint.undo)\n",
    "\n",
    "        self.resetBtn = QPushButton(\"Reset\")\n",
    "        self.resetBtn.clicked.connect(self.hint.reset)\n",
    "        \n",
    "        self.curCol = QLabel(\"CURRENT COLOR\",self)\n",
    "        self.curCol.setAlignment(Qt.AlignCenter)\n",
    "        self.curCol.setStyleSheet(f\"background-color: rgb(0,0,255)\")\n",
    "        self.curCol.setFixedSize(self.selCol.size())\n",
    "\n",
    "        self.sl = QSlider(Qt.Horizontal)\n",
    "        self.sl.setMinimum(1)\n",
    "        self.sl.setMaximum(10)\n",
    "        self.sl.setValue(5)\n",
    "        self.sl.setTickPosition(QSlider.TicksBelow)\n",
    "        self.sl.setTickInterval(1)\n",
    "        self.sl.valueChanged.connect(self.hint.updateRad)\n",
    "        \n",
    "        optL = QHBoxLayout()\n",
    "        optL.addStretch(1)\n",
    "        optL.addWidget(self.selCol)\n",
    "        optL.addStretch(1)\n",
    "        optL.addWidget(self.curCol)\n",
    "        optL.addStretch(1)\n",
    "        optL.addWidget(self.undoBtn)\n",
    "        optL.addStretch(1)\n",
    "        optL.addWidget(self.resetBtn)\n",
    "        optL.addStretch(1)\n",
    "        optL.addWidget(self.sl)\n",
    "        optL.addStretch(1)\n",
    "        \n",
    "        self.hint.updated.connect(self.colorize)\n",
    "        \n",
    "        topL = QHBoxLayout()\n",
    "        topL.addWidget(self.hint)\n",
    "        topL.addWidget(self.out)\n",
    "        \n",
    "        mainL.addLayout(topL)\n",
    "        mainL.addLayout(optL)\n",
    "        \n",
    "    def colorize(self,img):\n",
    "        print(\"Colorizing...\")\n",
    "        self.out.img = img\n",
    "        self.out.px = img.toqpixmap()\n",
    "        self.out.update()\n",
    "        print(\"Done\")\n",
    "        \n",
    "    def colorChoose(self):\n",
    "        colDialog = QColorDialog()\n",
    "        col = colDialog.getColor()\n",
    "        self.hint.brushCol = col\n",
    "        print(type(col))\n",
    "        self.curCol.setStyleSheet(f\"background-color: rgb({col.red()},{col.green()},{col.blue()})\")\n",
    "        self.update()\n",
    "        \n",
    "        "
   ]
  },
  {
   "cell_type": "code",
   "execution_count": 7,
   "metadata": {},
   "outputs": [],
   "source": [
    "class Window(QWidget):\n",
    "    def __init__(self):\n",
    "        super(Window,self).__init__()\n",
    "        self.layout = QVBoxLayout(self)\n",
    "        \n",
    "        #-----------------bottom part : Begin---------------\n",
    "        btmlayout = QHBoxLayout(self)\n",
    "        \n",
    "        self.gallery = Gallery(self)\n",
    "        pdir = \"d:/Images/Content/\"\n",
    "        paths = [pdir+f for f in os.listdir(pdir) if f.endswith(\".jpg\") or f.endswith(\".png\")]\n",
    "        for p in paths:\n",
    "            self.gallery.addImage(p)\n",
    "        self.gallery.setMaximumWidth(200)\n",
    "        self.gallery.setDragEnabled(True)\n",
    "        \n",
    "        self.colorizer = ColorizeTab(self)\n",
    "        self.stylizer = QWidget(self)\n",
    "        layout = QVBoxLayout(self)\n",
    "        self.pushButton1 = QPushButton(\"PyQt5 button\")\n",
    "        layout.addWidget(self.pushButton1)\n",
    "        self.stylizer.setLayout(layout)\n",
    "        \n",
    "        self.tabs = QTabWidget(self)\n",
    "        self.tabs.addTab(self.colorizer,\"Colorizer\")\n",
    "        self.tabs.addTab(self.stylizer,\"Stylizer\")\n",
    "        \n",
    "        self.gallery.setSizePolicy(self.tabs.sizePolicy())\n",
    "        btmlayout.addWidget(self.gallery)\n",
    "        btmlayout.addWidget(self.tabs)\n",
    "        \n",
    "        #--------------bottom part : End---------------\n",
    "        \n",
    "        self.title = QLabel(\"Deep Paint\",self)\n",
    "        self.title.setAlignment(Qt.AlignCenter)\n",
    "        \n",
    "        self.layout.addWidget(self.title)\n",
    "        self.layout.addLayout(btmlayout)\n",
    "        self.setGeometry(230,250,800,600)"
   ]
  },
  {
   "cell_type": "code",
   "execution_count": 8,
   "metadata": {
    "scrolled": true
   },
   "outputs": [
    {
     "name": "stdout",
     "output_type": "stream",
     "text": [
      "Drag entring in Gallery...\n",
      "Colorizing...\n",
      "Done\n",
      "Colorizing...\n",
      "Done\n"
     ]
    },
    {
     "ename": "SystemExit",
     "evalue": "0",
     "output_type": "error",
     "traceback": [
      "An exception has occurred, use %tb to see the full traceback.\n",
      "\u001b[1;31mSystemExit\u001b[0m\u001b[1;31m:\u001b[0m 0\n"
     ]
    },
    {
     "name": "stderr",
     "output_type": "stream",
     "text": [
      "C:\\Users\\HP\\Anaconda3\\lib\\site-packages\\IPython\\core\\interactiveshell.py:2971: UserWarning: To exit: use 'exit', 'quit', or Ctrl-D.\n",
      "  warn(\"To exit: use 'exit', 'quit', or Ctrl-D.\", stacklevel=1)\n"
     ]
    }
   ],
   "source": [
    "if __name__ == '__main__':\n",
    "\n",
    "    if not QApplication.instance():\n",
    "        app = QApplication(sys.argv)\n",
    "    else:\n",
    "        app = QApplication.instance() \n",
    "    w = Window()\n",
    "    w.show()\n",
    "    sys.exit(app.exec_())\n"
   ]
  },
  {
   "cell_type": "code",
   "execution_count": 9,
   "metadata": {},
   "outputs": [],
   "source": [
    "c = QColor(255,19,189)"
   ]
  },
  {
   "cell_type": "code",
   "execution_count": 10,
   "metadata": {},
   "outputs": [],
   "source": [
    "s = [[[c.red(),c.green(),c.blue()]]]\n",
    "im = np.array(s)/255"
   ]
  },
  {
   "cell_type": "code",
   "execution_count": 11,
   "metadata": {},
   "outputs": [
    {
     "data": {
      "text/plain": [
       "array([[[1.        , 0.0745098 , 0.74117647]]])"
      ]
     },
     "execution_count": 11,
     "metadata": {},
     "output_type": "execute_result"
    }
   ],
   "source": [
    "im"
   ]
  },
  {
   "cell_type": "code",
   "execution_count": 12,
   "metadata": {},
   "outputs": [
    {
     "data": {
      "text/plain": [
       "(255, 19, 189)"
      ]
     },
     "execution_count": 12,
     "metadata": {},
     "output_type": "execute_result"
    }
   ],
   "source": [
    "c.red(),c.green(),c.blue()"
   ]
  },
  {
   "cell_type": "code",
   "execution_count": 14,
   "metadata": {},
   "outputs": [],
   "source": [
    "a = color.rgb2lab(im)"
   ]
  },
  {
   "cell_type": "code",
   "execution_count": 15,
   "metadata": {},
   "outputs": [
    {
     "data": {
      "text/plain": [
       "array([ 57.46826742,  88.72073436, -28.00670762])"
      ]
     },
     "execution_count": 15,
     "metadata": {},
     "output_type": "execute_result"
    }
   ],
   "source": [
    "a[0][0]"
   ]
  },
  {
   "cell_type": "code",
   "execution_count": null,
   "metadata": {},
   "outputs": [],
   "source": [
    "type(p)"
   ]
  },
  {
   "cell_type": "code",
   "execution_count": null,
   "metadata": {},
   "outputs": [],
   "source": [
    "s = p.toImageFormat()"
   ]
  },
  {
   "cell_type": "code",
   "execution_count": null,
   "metadata": {},
   "outputs": [],
   "source": []
  }
 ],
 "metadata": {
  "kernelspec": {
   "display_name": "Python 3",
   "language": "python",
   "name": "python3"
  },
  "language_info": {
   "codemirror_mode": {
    "name": "ipython",
    "version": 3
   },
   "file_extension": ".py",
   "mimetype": "text/x-python",
   "name": "python",
   "nbconvert_exporter": "python",
   "pygments_lexer": "ipython3",
   "version": "3.6.5"
  }
 },
 "nbformat": 4,
 "nbformat_minor": 2
}
