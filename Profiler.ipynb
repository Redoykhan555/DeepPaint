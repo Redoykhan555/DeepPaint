{
 "cells": [
  {
   "cell_type": "code",
   "execution_count": 39,
   "metadata": {},
   "outputs": [],
   "source": [
    "import matplotlib.pyplot as plt\n",
    "import numpy as np\n",
    "import os\n",
    "from PIL import Image\n",
    "from random import choice,randint\n",
    "import time\n",
    "import psutil\n",
    "\n",
    "from Stylizer.algorithm import stylizeAbstract,stylizeAdaIN\n",
    "from Colorizer.algorithm import colorize"
   ]
  },
  {
   "cell_type": "code",
   "execution_count": 2,
   "metadata": {},
   "outputs": [],
   "source": [
    "CONTENT_DIR = \"D:/Images/Content/\"\n",
    "STYLE_DIR = \"D:/Images/Style/\""
   ]
  },
  {
   "cell_type": "code",
   "execution_count": 3,
   "metadata": {},
   "outputs": [
    {
     "name": "stderr",
     "output_type": "stream",
     "text": [
      "C:\\Users\\HP\\Anaconda3\\envs\\spl\\lib\\site-packages\\torch\\nn\\modules\\upsampling.py:122: UserWarning: nn.Upsampling is deprecated. Use nn.functional.interpolate instead.\n",
      "  warnings.warn(\"nn.Upsampling is deprecated. Use nn.functional.interpolate instead.\")\n"
     ]
    }
   ],
   "source": [
    "#ADAIN\n",
    "x,y = [],[]\n",
    "for cont in os.listdir(CONTENT_DIR):\n",
    "    for sty in os.listdir(STYLE_DIR):\n",
    "        Ic = Image.open(CONTENT_DIR + cont)\n",
    "        #Is = Image.open(STYLE_DIR + sty)\n",
    "        #alpha = choice([x / 10 for x in range(1, 11)])\n",
    "        start = time.perf_counter()\n",
    "        out = stylizeAdaIN(Ic,Is,alpha)\n",
    "        st = time.perf_counter() - start\n",
    "        a,b = Ic.size\n",
    "        c,d = Is.size\n",
    "        x.append(a*b + c*d)\n",
    "        y.append(st)\n",
    "x = np.array(x)\n",
    "y = np.array(y)"
   ]
  },
  {
   "cell_type": "code",
   "execution_count": 19,
   "metadata": {},
   "outputs": [
    {
     "name": "stdout",
     "output_type": "stream",
     "text": [
      "weight should contain 1 elements not 3 d:/COCO17/val/000000007888.jpg\n",
      "weight should contain 1 elements not 3 d:/COCO17/val/000000024021.jpg\n",
      "weight should contain 1 elements not 3 d:/COCO17/val/000000061418.jpg\n"
     ]
    }
   ],
   "source": [
    "#Abs Style\n",
    "x,y = [],[]\n",
    "MODELS = ['cezanne', 'el-greco', 'monet', 'picasso', 'van-gogh']\n",
    "CONTENT_DIR = \"d:/COCO17/val/\"\n",
    "for cont in os.listdir(CONTENT_DIR)[:1000]:\n",
    "    Ic = Image.open(CONTENT_DIR + cont)\n",
    "    info = {'model_name':choice(MODELS)}\n",
    "    start = time.perf_counter()\n",
    "    try:\n",
    "        out = stylizeAbstract(Ic,info)\n",
    "        st = time.perf_counter() - start\n",
    "        a,b = Ic.size\n",
    "        x.append(a*b)\n",
    "        y.append(st)\n",
    "    except Exception as e:\n",
    "        print(e,CONTENT_DIR + cont)\n",
    "    \n",
    "x = np.array(x)\n",
    "y = np.array(y)"
   ]
  },
  {
   "cell_type": "code",
   "execution_count": 38,
   "metadata": {},
   "outputs": [
    {
     "data": {
      "image/png": "[encoded data removed]",
      "text/plain": [
       "<Figure size 720x504 with 1 Axes>"
      ]
     },
     "metadata": {},
     "output_type": "display_data"
    }
   ],
   "source": [
    "plt.figure(figsize=(10,7))\n",
    "plt.xticks(range(128,1024,64))\n",
    "plt.plot(x,y,'bo')\n",
    "plt.show()"
   ]
  },
  {
   "cell_type": "code",
   "execution_count": 33,
   "metadata": {},
   "outputs": [
    {
     "name": "stderr",
     "output_type": "stream",
     "text": [
      "C:\\Users\\HP\\Anaconda3\\envs\\spl\\lib\\site-packages\\skimage\\color\\colorconv.py:985: UserWarning: Color data out of range: Z < 0 in 1 pixels\n",
      "  warn('Color data out of range: Z < 0 in %s pixels' % invalid[0].size)\n",
      "C:\\Users\\HP\\Anaconda3\\envs\\spl\\lib\\site-packages\\skimage\\color\\colorconv.py:985: UserWarning: Color data out of range: Z < 0 in 2 pixels\n",
      "  warn('Color data out of range: Z < 0 in %s pixels' % invalid[0].size)\n",
      "C:\\Users\\HP\\Anaconda3\\envs\\spl\\lib\\site-packages\\skimage\\color\\colorconv.py:985: UserWarning: Color data out of range: Z < 0 in 4 pixels\n",
      "  warn('Color data out of range: Z < 0 in %s pixels' % invalid[0].size)\n",
      "C:\\Users\\HP\\Anaconda3\\envs\\spl\\lib\\site-packages\\skimage\\color\\colorconv.py:985: UserWarning: Color data out of range: Z < 0 in 27 pixels\n",
      "  warn('Color data out of range: Z < 0 in %s pixels' % invalid[0].size)\n",
      "C:\\Users\\HP\\Anaconda3\\envs\\spl\\lib\\site-packages\\skimage\\color\\colorconv.py:985: UserWarning: Color data out of range: Z < 0 in 44 pixels\n",
      "  warn('Color data out of range: Z < 0 in %s pixels' % invalid[0].size)\n",
      "C:\\Users\\HP\\Anaconda3\\envs\\spl\\lib\\site-packages\\skimage\\color\\colorconv.py:985: UserWarning: Color data out of range: Z < 0 in 47 pixels\n",
      "  warn('Color data out of range: Z < 0 in %s pixels' % invalid[0].size)\n",
      "C:\\Users\\HP\\Anaconda3\\envs\\spl\\lib\\site-packages\\skimage\\color\\colorconv.py:985: UserWarning: Color data out of range: Z < 0 in 6 pixels\n",
      "  warn('Color data out of range: Z < 0 in %s pixels' % invalid[0].size)\n",
      "C:\\Users\\HP\\Anaconda3\\envs\\spl\\lib\\site-packages\\skimage\\color\\colorconv.py:985: UserWarning: Color data out of range: Z < 0 in 3 pixels\n",
      "  warn('Color data out of range: Z < 0 in %s pixels' % invalid[0].size)\n",
      "C:\\Users\\HP\\Anaconda3\\envs\\spl\\lib\\site-packages\\skimage\\color\\colorconv.py:985: UserWarning: Color data out of range: Z < 0 in 5 pixels\n",
      "  warn('Color data out of range: Z < 0 in %s pixels' % invalid[0].size)\n",
      "C:\\Users\\HP\\Anaconda3\\envs\\spl\\lib\\site-packages\\skimage\\color\\colorconv.py:985: UserWarning: Color data out of range: Z < 0 in 16 pixels\n",
      "  warn('Color data out of range: Z < 0 in %s pixels' % invalid[0].size)\n",
      "C:\\Users\\HP\\Anaconda3\\envs\\spl\\lib\\site-packages\\skimage\\color\\colorconv.py:985: UserWarning: Color data out of range: Z < 0 in 34 pixels\n",
      "  warn('Color data out of range: Z < 0 in %s pixels' % invalid[0].size)\n",
      "C:\\Users\\HP\\Anaconda3\\envs\\spl\\lib\\site-packages\\skimage\\color\\colorconv.py:985: UserWarning: Color data out of range: Z < 0 in 15 pixels\n",
      "  warn('Color data out of range: Z < 0 in %s pixels' % invalid[0].size)\n",
      "C:\\Users\\HP\\Anaconda3\\envs\\spl\\lib\\site-packages\\skimage\\color\\colorconv.py:985: UserWarning: Color data out of range: Z < 0 in 11 pixels\n",
      "  warn('Color data out of range: Z < 0 in %s pixels' % invalid[0].size)\n",
      "C:\\Users\\HP\\Anaconda3\\envs\\spl\\lib\\site-packages\\skimage\\color\\colorconv.py:985: UserWarning: Color data out of range: Z < 0 in 17 pixels\n",
      "  warn('Color data out of range: Z < 0 in %s pixels' % invalid[0].size)\n",
      "C:\\Users\\HP\\Anaconda3\\envs\\spl\\lib\\site-packages\\skimage\\color\\colorconv.py:985: UserWarning: Color data out of range: Z < 0 in 10 pixels\n",
      "  warn('Color data out of range: Z < 0 in %s pixels' % invalid[0].size)\n",
      "C:\\Users\\HP\\Anaconda3\\envs\\spl\\lib\\site-packages\\skimage\\color\\colorconv.py:985: UserWarning: Color data out of range: Z < 0 in 14 pixels\n",
      "  warn('Color data out of range: Z < 0 in %s pixels' % invalid[0].size)\n",
      "C:\\Users\\HP\\Anaconda3\\envs\\spl\\lib\\site-packages\\skimage\\color\\colorconv.py:985: UserWarning: Color data out of range: Z < 0 in 8 pixels\n",
      "  warn('Color data out of range: Z < 0 in %s pixels' % invalid[0].size)\n",
      "C:\\Users\\HP\\Anaconda3\\envs\\spl\\lib\\site-packages\\skimage\\color\\colorconv.py:985: UserWarning: Color data out of range: Z < 0 in 28 pixels\n",
      "  warn('Color data out of range: Z < 0 in %s pixels' % invalid[0].size)\n",
      "C:\\Users\\HP\\Anaconda3\\envs\\spl\\lib\\site-packages\\skimage\\color\\colorconv.py:985: UserWarning: Color data out of range: Z < 0 in 7 pixels\n",
      "  warn('Color data out of range: Z < 0 in %s pixels' % invalid[0].size)\n",
      "C:\\Users\\HP\\Anaconda3\\envs\\spl\\lib\\site-packages\\skimage\\color\\colorconv.py:985: UserWarning: Color data out of range: Z < 0 in 23 pixels\n",
      "  warn('Color data out of range: Z < 0 in %s pixels' % invalid[0].size)\n",
      "C:\\Users\\HP\\Anaconda3\\envs\\spl\\lib\\site-packages\\skimage\\color\\colorconv.py:985: UserWarning: Color data out of range: Z < 0 in 22 pixels\n",
      "  warn('Color data out of range: Z < 0 in %s pixels' % invalid[0].size)\n",
      "C:\\Users\\HP\\Anaconda3\\envs\\spl\\lib\\site-packages\\skimage\\color\\colorconv.py:985: UserWarning: Color data out of range: Z < 0 in 64 pixels\n",
      "  warn('Color data out of range: Z < 0 in %s pixels' % invalid[0].size)\n",
      "C:\\Users\\HP\\Anaconda3\\envs\\spl\\lib\\site-packages\\skimage\\color\\colorconv.py:985: UserWarning: Color data out of range: Z < 0 in 26 pixels\n",
      "  warn('Color data out of range: Z < 0 in %s pixels' % invalid[0].size)\n",
      "C:\\Users\\HP\\Anaconda3\\envs\\spl\\lib\\site-packages\\skimage\\color\\colorconv.py:985: UserWarning: Color data out of range: Z < 0 in 19 pixels\n",
      "  warn('Color data out of range: Z < 0 in %s pixels' % invalid[0].size)\n",
      "C:\\Users\\HP\\Anaconda3\\envs\\spl\\lib\\site-packages\\skimage\\color\\colorconv.py:985: UserWarning: Color data out of range: Z < 0 in 30 pixels\n",
      "  warn('Color data out of range: Z < 0 in %s pixels' % invalid[0].size)\n",
      "C:\\Users\\HP\\Anaconda3\\envs\\spl\\lib\\site-packages\\skimage\\color\\colorconv.py:985: UserWarning: Color data out of range: Z < 0 in 25 pixels\n",
      "  warn('Color data out of range: Z < 0 in %s pixels' % invalid[0].size)\n",
      "C:\\Users\\HP\\Anaconda3\\envs\\spl\\lib\\site-packages\\skimage\\color\\colorconv.py:985: UserWarning: Color data out of range: Z < 0 in 13 pixels\n",
      "  warn('Color data out of range: Z < 0 in %s pixels' % invalid[0].size)\n",
      "C:\\Users\\HP\\Anaconda3\\envs\\spl\\lib\\site-packages\\skimage\\color\\colorconv.py:985: UserWarning: Color data out of range: Z < 0 in 91 pixels\n",
      "  warn('Color data out of range: Z < 0 in %s pixels' % invalid[0].size)\n",
      "C:\\Users\\HP\\Anaconda3\\envs\\spl\\lib\\site-packages\\skimage\\color\\colorconv.py:985: UserWarning: Color data out of range: Z < 0 in 12 pixels\n",
      "  warn('Color data out of range: Z < 0 in %s pixels' % invalid[0].size)\n",
      "C:\\Users\\HP\\Anaconda3\\envs\\spl\\lib\\site-packages\\skimage\\color\\colorconv.py:985: UserWarning: Color data out of range: Z < 0 in 9 pixels\n",
      "  warn('Color data out of range: Z < 0 in %s pixels' % invalid[0].size)\n",
      "C:\\Users\\HP\\Anaconda3\\envs\\spl\\lib\\site-packages\\skimage\\color\\colorconv.py:985: UserWarning: Color data out of range: Z < 0 in 35 pixels\n",
      "  warn('Color data out of range: Z < 0 in %s pixels' % invalid[0].size)\n",
      "C:\\Users\\HP\\Anaconda3\\envs\\spl\\lib\\site-packages\\skimage\\color\\colorconv.py:985: UserWarning: Color data out of range: Z < 0 in 18 pixels\n",
      "  warn('Color data out of range: Z < 0 in %s pixels' % invalid[0].size)\n",
      "C:\\Users\\HP\\Anaconda3\\envs\\spl\\lib\\site-packages\\skimage\\color\\colorconv.py:985: UserWarning: Color data out of range: Z < 0 in 33 pixels\n",
      "  warn('Color data out of range: Z < 0 in %s pixels' % invalid[0].size)\n",
      "C:\\Users\\HP\\Anaconda3\\envs\\spl\\lib\\site-packages\\skimage\\color\\colorconv.py:985: UserWarning: Color data out of range: Z < 0 in 63 pixels\n",
      "  warn('Color data out of range: Z < 0 in %s pixels' % invalid[0].size)\n",
      "C:\\Users\\HP\\Anaconda3\\envs\\spl\\lib\\site-packages\\skimage\\color\\colorconv.py:985: UserWarning: Color data out of range: Z < 0 in 76 pixels\n",
      "  warn('Color data out of range: Z < 0 in %s pixels' % invalid[0].size)\n",
      "C:\\Users\\HP\\Anaconda3\\envs\\spl\\lib\\site-packages\\skimage\\color\\colorconv.py:985: UserWarning: Color data out of range: Z < 0 in 31 pixels\n",
      "  warn('Color data out of range: Z < 0 in %s pixels' % invalid[0].size)\n",
      "C:\\Users\\HP\\Anaconda3\\envs\\spl\\lib\\site-packages\\skimage\\color\\colorconv.py:985: UserWarning: Color data out of range: Z < 0 in 97 pixels\n",
      "  warn('Color data out of range: Z < 0 in %s pixels' % invalid[0].size)\n",
      "C:\\Users\\HP\\Anaconda3\\envs\\spl\\lib\\site-packages\\skimage\\color\\colorconv.py:985: UserWarning: Color data out of range: Z < 0 in 20 pixels\n",
      "  warn('Color data out of range: Z < 0 in %s pixels' % invalid[0].size)\n",
      "C:\\Users\\HP\\Anaconda3\\envs\\spl\\lib\\site-packages\\skimage\\color\\colorconv.py:985: UserWarning: Color data out of range: Z < 0 in 41 pixels\n",
      "  warn('Color data out of range: Z < 0 in %s pixels' % invalid[0].size)\n",
      "C:\\Users\\HP\\Anaconda3\\envs\\spl\\lib\\site-packages\\skimage\\color\\colorconv.py:985: UserWarning: Color data out of range: Z < 0 in 60 pixels\n",
      "  warn('Color data out of range: Z < 0 in %s pixels' % invalid[0].size)\n"
     ]
    },
    {
     "name": "stderr",
     "output_type": "stream",
     "text": [
      "C:\\Users\\HP\\Anaconda3\\envs\\spl\\lib\\site-packages\\skimage\\color\\colorconv.py:985: UserWarning: Color data out of range: Z < 0 in 53 pixels\n",
      "  warn('Color data out of range: Z < 0 in %s pixels' % invalid[0].size)\n",
      "C:\\Users\\HP\\Anaconda3\\envs\\spl\\lib\\site-packages\\skimage\\color\\colorconv.py:985: UserWarning: Color data out of range: Z < 0 in 37 pixels\n",
      "  warn('Color data out of range: Z < 0 in %s pixels' % invalid[0].size)\n",
      "C:\\Users\\HP\\Anaconda3\\envs\\spl\\lib\\site-packages\\skimage\\color\\colorconv.py:985: UserWarning: Color data out of range: Z < 0 in 39 pixels\n",
      "  warn('Color data out of range: Z < 0 in %s pixels' % invalid[0].size)\n",
      "C:\\Users\\HP\\Anaconda3\\envs\\spl\\lib\\site-packages\\skimage\\color\\colorconv.py:985: UserWarning: Color data out of range: Z < 0 in 29 pixels\n",
      "  warn('Color data out of range: Z < 0 in %s pixels' % invalid[0].size)\n",
      "C:\\Users\\HP\\Anaconda3\\envs\\spl\\lib\\site-packages\\skimage\\color\\colorconv.py:985: UserWarning: Color data out of range: Z < 0 in 24 pixels\n",
      "  warn('Color data out of range: Z < 0 in %s pixels' % invalid[0].size)\n",
      "C:\\Users\\HP\\Anaconda3\\envs\\spl\\lib\\site-packages\\skimage\\color\\colorconv.py:985: UserWarning: Color data out of range: Z < 0 in 78 pixels\n",
      "  warn('Color data out of range: Z < 0 in %s pixels' % invalid[0].size)\n",
      "C:\\Users\\HP\\Anaconda3\\envs\\spl\\lib\\site-packages\\skimage\\color\\colorconv.py:985: UserWarning: Color data out of range: Z < 0 in 38 pixels\n",
      "  warn('Color data out of range: Z < 0 in %s pixels' % invalid[0].size)\n",
      "C:\\Users\\HP\\Anaconda3\\envs\\spl\\lib\\site-packages\\skimage\\color\\colorconv.py:985: UserWarning: Color data out of range: Z < 0 in 43 pixels\n",
      "  warn('Color data out of range: Z < 0 in %s pixels' % invalid[0].size)\n",
      "C:\\Users\\HP\\Anaconda3\\envs\\spl\\lib\\site-packages\\skimage\\color\\colorconv.py:985: UserWarning: Color data out of range: Z < 0 in 75 pixels\n",
      "  warn('Color data out of range: Z < 0 in %s pixels' % invalid[0].size)\n",
      "C:\\Users\\HP\\Anaconda3\\envs\\spl\\lib\\site-packages\\skimage\\color\\colorconv.py:985: UserWarning: Color data out of range: Z < 0 in 49 pixels\n",
      "  warn('Color data out of range: Z < 0 in %s pixels' % invalid[0].size)\n",
      "C:\\Users\\HP\\Anaconda3\\envs\\spl\\lib\\site-packages\\skimage\\color\\colorconv.py:985: UserWarning: Color data out of range: Z < 0 in 66 pixels\n",
      "  warn('Color data out of range: Z < 0 in %s pixels' % invalid[0].size)\n",
      "C:\\Users\\HP\\Anaconda3\\envs\\spl\\lib\\site-packages\\skimage\\color\\colorconv.py:985: UserWarning: Color data out of range: Z < 0 in 42 pixels\n",
      "  warn('Color data out of range: Z < 0 in %s pixels' % invalid[0].size)\n"
     ]
    },
    {
     "name": "stdout",
     "output_type": "stream",
     "text": [
      "the input array must be have a shape == (.., ..,[ ..,] 3)), got (128, 128) d:/COCO17/val/000000007888.jpg\n",
      "the input array must be have a shape == (.., ..,[ ..,] 3)), got (160, 160) d:/COCO17/val/000000007888.jpg\n",
      "the input array must be have a shape == (.., ..,[ ..,] 3)), got (192, 192) d:/COCO17/val/000000007888.jpg\n",
      "the input array must be have a shape == (.., ..,[ ..,] 3)), got (224, 224) d:/COCO17/val/000000007888.jpg\n",
      "the input array must be have a shape == (.., ..,[ ..,] 3)), got (256, 256) d:/COCO17/val/000000007888.jpg\n",
      "the input array must be have a shape == (.., ..,[ ..,] 3)), got (288, 288) d:/COCO17/val/000000007888.jpg\n",
      "the input array must be have a shape == (.., ..,[ ..,] 3)), got (320, 320) d:/COCO17/val/000000007888.jpg\n",
      "the input array must be have a shape == (.., ..,[ ..,] 3)), got (352, 352) d:/COCO17/val/000000007888.jpg\n",
      "the input array must be have a shape == (.., ..,[ ..,] 3)), got (384, 384) d:/COCO17/val/000000007888.jpg\n",
      "the input array must be have a shape == (.., ..,[ ..,] 3)), got (416, 416) d:/COCO17/val/000000007888.jpg\n",
      "the input array must be have a shape == (.., ..,[ ..,] 3)), got (448, 448) d:/COCO17/val/000000007888.jpg\n",
      "the input array must be have a shape == (.., ..,[ ..,] 3)), got (480, 480) d:/COCO17/val/000000007888.jpg\n",
      "the input array must be have a shape == (.., ..,[ ..,] 3)), got (512, 512) d:/COCO17/val/000000007888.jpg\n",
      "the input array must be have a shape == (.., ..,[ ..,] 3)), got (544, 544) d:/COCO17/val/000000007888.jpg\n",
      "the input array must be have a shape == (.., ..,[ ..,] 3)), got (576, 576) d:/COCO17/val/000000007888.jpg\n",
      "the input array must be have a shape == (.., ..,[ ..,] 3)), got (608, 608) d:/COCO17/val/000000007888.jpg\n",
      "the input array must be have a shape == (.., ..,[ ..,] 3)), got (640, 640) d:/COCO17/val/000000007888.jpg\n",
      "the input array must be have a shape == (.., ..,[ ..,] 3)), got (672, 672) d:/COCO17/val/000000007888.jpg\n",
      "the input array must be have a shape == (.., ..,[ ..,] 3)), got (704, 704) d:/COCO17/val/000000007888.jpg\n",
      "the input array must be have a shape == (.., ..,[ ..,] 3)), got (736, 736) d:/COCO17/val/000000007888.jpg\n",
      "the input array must be have a shape == (.., ..,[ ..,] 3)), got (768, 768) d:/COCO17/val/000000007888.jpg\n",
      "the input array must be have a shape == (.., ..,[ ..,] 3)), got (800, 800) d:/COCO17/val/000000007888.jpg\n",
      "the input array must be have a shape == (.., ..,[ ..,] 3)), got (832, 832) d:/COCO17/val/000000007888.jpg\n",
      "the input array must be have a shape == (.., ..,[ ..,] 3)), got (864, 864) d:/COCO17/val/000000007888.jpg\n",
      "the input array must be have a shape == (.., ..,[ ..,] 3)), got (896, 896) d:/COCO17/val/000000007888.jpg\n",
      "the input array must be have a shape == (.., ..,[ ..,] 3)), got (928, 928) d:/COCO17/val/000000007888.jpg\n",
      "the input array must be have a shape == (.., ..,[ ..,] 3)), got (960, 960) d:/COCO17/val/000000007888.jpg\n",
      "the input array must be have a shape == (.., ..,[ ..,] 3)), got (992, 992) d:/COCO17/val/000000007888.jpg\n"
     ]
    },
    {
     "name": "stderr",
     "output_type": "stream",
     "text": [
      "C:\\Users\\HP\\Anaconda3\\envs\\spl\\lib\\site-packages\\skimage\\color\\colorconv.py:985: UserWarning: Color data out of range: Z < 0 in 21 pixels\n",
      "  warn('Color data out of range: Z < 0 in %s pixels' % invalid[0].size)\n",
      "C:\\Users\\HP\\Anaconda3\\envs\\spl\\lib\\site-packages\\skimage\\color\\colorconv.py:985: UserWarning: Color data out of range: Z < 0 in 88 pixels\n",
      "  warn('Color data out of range: Z < 0 in %s pixels' % invalid[0].size)\n",
      "C:\\Users\\HP\\Anaconda3\\envs\\spl\\lib\\site-packages\\skimage\\color\\colorconv.py:985: UserWarning: Color data out of range: Z < 0 in 62 pixels\n",
      "  warn('Color data out of range: Z < 0 in %s pixels' % invalid[0].size)\n",
      "C:\\Users\\HP\\Anaconda3\\envs\\spl\\lib\\site-packages\\skimage\\color\\colorconv.py:985: UserWarning: Color data out of range: Z < 0 in 70 pixels\n",
      "  warn('Color data out of range: Z < 0 in %s pixels' % invalid[0].size)\n",
      "C:\\Users\\HP\\Anaconda3\\envs\\spl\\lib\\site-packages\\skimage\\color\\colorconv.py:985: UserWarning: Color data out of range: Z < 0 in 85 pixels\n",
      "  warn('Color data out of range: Z < 0 in %s pixels' % invalid[0].size)\n",
      "C:\\Users\\HP\\Anaconda3\\envs\\spl\\lib\\site-packages\\skimage\\color\\colorconv.py:985: UserWarning: Color data out of range: Z < 0 in 48 pixels\n",
      "  warn('Color data out of range: Z < 0 in %s pixels' % invalid[0].size)\n"
     ]
    }
   ],
   "source": [
    "x,y = [],[]\n",
    "for c in os.listdir(CONTENT_DIR)[:100]:\n",
    "    for S in range(128,1024,32):\n",
    "        Im = Image.open(CONTENT_DIR + c).resize((S,S))\n",
    "        xs,ys = Im.size\n",
    "        points = []\n",
    "        for p in range(randint(0,100)):\n",
    "            pos = (randint(0,xs),randint(0,ys))\n",
    "            r = randint(0,10)\n",
    "            col = (randint(0,255),randint(0,255),randint(0,255))\n",
    "            points.append((pos,col,r))\n",
    "        start = time.perf_counter()\n",
    "        try:\n",
    "            colorize(Im,points)\n",
    "            st = time.perf_counter() - start\n",
    "            x.append(S)\n",
    "            y.append(st)\n",
    "        except Exception as e:\n",
    "            print(e,CONTENT_DIR + c)\n"
   ]
  },
  {
   "cell_type": "code",
   "execution_count": 44,
   "metadata": {},
   "outputs": [
    {
     "data": {
      "text/plain": [
       "dict_keys(['cmdline', 'name', 'username', 'open_files', 'connections', 'num_threads', 'ionice', 'threads', 'exe', 'memory_maps', 'cwd', 'memory_percent', 'num_ctx_switches', 'ppid', 'nice', 'pid', 'environ', 'create_time', 'num_handles', 'memory_full_info', 'status', 'cpu_affinity', 'io_counters', 'cpu_percent', 'cpu_times', 'memory_info'])"
      ]
     },
     "execution_count": 44,
     "metadata": {},
     "output_type": "execute_result"
    }
   ],
   "source": [
    "process = psutil.Process(os.getpid())\n",
    "process.as_dict().keys()"
   ]
  },
  {
   "cell_type": "code",
   "execution_count": 50,
   "metadata": {},
   "outputs": [
    {
     "data": {
      "text/plain": [
       "pmem(rss=2084970496, vms=10024513536, num_page_faults=217581753, peak_wset=2299678720, wset=2084970496, peak_paged_pool=27837848, paged_pool=27837640, peak_nonpaged_pool=4930712, nonpaged_pool=2871752, pagefile=10024513536, peak_pagefile=10240151552, private=10024513536)"
      ]
     },
     "execution_count": 50,
     "metadata": {},
     "output_type": "execute_result"
    }
   ],
   "source": [
    "process.as_dict()['memory_info']"
   ]
  },
  {
   "cell_type": "code",
   "execution_count": null,
   "metadata": {},
   "outputs": [],
   "source": []
  }
 ],
 "metadata": {
  "kernelspec": {
   "display_name": "Python 3",
   "language": "python",
   "name": "python3"
  },
  "language_info": {
   "codemirror_mode": {
    "name": "ipython",
    "version": 3
   },
   "file_extension": ".py",
   "mimetype": "text/x-python",
   "name": "python",
   "nbconvert_exporter": "python",
   "pygments_lexer": "ipython3",
   "version": "3.6.5"
  }
 },
 "nbformat": 4,
 "nbformat_minor": 2
}
